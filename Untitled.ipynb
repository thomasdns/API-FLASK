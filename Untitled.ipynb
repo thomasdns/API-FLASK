{
 "cells": [
  {
   "cell_type": "markdown",
   "id": "21342861-6fef-4d7b-8aaf-c7408b9deb8d",
   "metadata": {},
   "source": [
    "# Mon 1er Notebook"
   ]
  },
  {
   "cell_type": "code",
   "execution_count": 12,
   "id": "56616282-a0fa-4c02-ae4d-e0922ade7606",
   "metadata": {},
   "outputs": [
    {
     "name": "stdout",
     "output_type": "stream",
     "text": [
      "Hello World!\n"
     ]
    }
   ],
   "source": [
    "print(\"Hello World!\")"
   ]
  },
  {
   "cell_type": "code",
   "execution_count": 13,
   "id": "33e1b555-93f1-458d-b03c-587259854e0e",
   "metadata": {},
   "outputs": [],
   "source": [
    "import pandas as pd"
   ]
  },
  {
   "cell_type": "code",
   "execution_count": 17,
   "id": "1607db2d",
   "metadata": {},
   "outputs": [
    {
     "ename": "SyntaxError",
     "evalue": "invalid syntax (2859775183.py, line 1)",
     "output_type": "error",
     "traceback": [
      "\u001b[1;36m  Cell \u001b[1;32mIn[17], line 1\u001b[1;36m\u001b[0m\n\u001b[1;33m    data = pd.read_csv(C:\\Users\\thoma\\OneDrive\\Documents\\GitHub\\API-FLASK\\dataset.csv)\u001b[0m\n\u001b[1;37m                        ^\u001b[0m\n\u001b[1;31mSyntaxError\u001b[0m\u001b[1;31m:\u001b[0m invalid syntax\n"
     ]
    }
   ],
   "source": [
    "data = pd.read_csv(C:\\Users\\thoma\\OneDrive\\Documents\\GitHub\\API-FLASK\\dataset.csv)"
   ]
  }
 ],
 "metadata": {
  "kernelspec": {
   "display_name": "Python 3 (ipykernel)",
   "language": "python",
   "name": "python3"
  },
  "language_info": {
   "codemirror_mode": {
    "name": "ipython",
    "version": 3
   },
   "file_extension": ".py",
   "mimetype": "text/x-python",
   "name": "python",
   "nbconvert_exporter": "python",
   "pygments_lexer": "ipython3",
   "version": "3.12.3"
  }
 },
 "nbformat": 4,
 "nbformat_minor": 5
}
